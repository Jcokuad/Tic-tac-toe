{
 "cells": [
  {
   "cell_type": "code",
   "execution_count": 1,
   "id": "059d3865-3d61-47ab-ae44-552981767f28",
   "metadata": {},
   "outputs": [],
   "source": [
    "from IPython.display import clear_output\n",
    "\n",
    "def display_board(board):\n",
    "\n",
    "    print('       |       |       ') \n",
    "    print('   '+board[7]+'   |   '+board[8]+'   |   '+board[9]+'    ')\n",
    "    print('       |       |       ')\n",
    "    print('-----------------------')\n",
    "    print('       |       |       ') \n",
    "    print('   '+board[4]+'   |   '+board[5]+'   |   '+board[6]+'    ')\n",
    "    print('       |       |       ')\n",
    "    print('-----------------------')\n",
    "    print('       |       |       ') \n",
    "    print('   '+board[1]+'   |   '+board[2]+'   |   '+board[3]+'    ')\n",
    "    print('       |       |       ')"
   ]
  },
  {
   "cell_type": "code",
   "execution_count": 2,
   "id": "8e1883dc-09dc-464e-826b-3bd3994daad0",
   "metadata": {},
   "outputs": [
    {
     "name": "stdout",
     "output_type": "stream",
     "text": [
      "       |       |       \n",
      "   X   |   X   |   X    \n",
      "       |       |       \n",
      "-----------------------\n",
      "       |       |       \n",
      "   X   |   X   |   X    \n",
      "       |       |       \n",
      "-----------------------\n",
      "       |       |       \n",
      "   X   |   X   |   X    \n",
      "       |       |       \n"
     ]
    }
   ],
   "source": [
    "test_board = ['0','X','X','X','X','X','X','X','X','X']\n",
    "display_board(test_board)"
   ]
  },
  {
   "cell_type": "code",
   "execution_count": 3,
   "id": "80e6ff27-0fa3-40a8-bc9b-0933f5e55d95",
   "metadata": {},
   "outputs": [
    {
     "name": "stdout",
     "output_type": "stream",
     "text": [
      "       |       |       \n",
      "       |       |        \n",
      "       |       |       \n",
      "-----------------------\n",
      "       |       |       \n",
      "       |       |        \n",
      "       |       |       \n",
      "-----------------------\n",
      "       |       |       \n",
      "       |       |        \n",
      "       |       |       \n"
     ]
    }
   ],
   "source": [
    "game_board = ['0',' ',' ',' ',' ',' ',' ',' ',' ',' ',]\n",
    "display_board(game_board)"
   ]
  },
  {
   "cell_type": "code",
   "execution_count": 4,
   "id": "7b1e1987-410f-46ad-a609-43804e594efd",
   "metadata": {},
   "outputs": [],
   "source": [
    "def player_input(): \n",
    "\n",
    "    player_piece = 'wrong'\n",
    "    while player_piece not in ['X', 'O']:\n",
    "        player_piece = input(\"Player 1: Do you want to be X or O? \")\n",
    "\n",
    "        if player_piece not in ['X', 'O']:\n",
    "            print(\"Please select a valid piece (X or O)! \")\n",
    "\n",
    "    if player_piece == 'X':\n",
    "        return ('X', 'O')\n",
    "    else:\n",
    "        return ('O','X')"
   ]
  },
  {
   "cell_type": "code",
   "execution_count": 5,
   "id": "43cb65bd-9b25-4086-b9d6-6cde1d9beae7",
   "metadata": {},
   "outputs": [
    {
     "name": "stdin",
     "output_type": "stream",
     "text": [
      "Player 1: Do you want to be X or O?  X\n"
     ]
    },
    {
     "data": {
      "text/plain": [
       "('X', 'O')"
      ]
     },
     "execution_count": 5,
     "metadata": {},
     "output_type": "execute_result"
    }
   ],
   "source": [
    "player_input()"
   ]
  },
  {
   "cell_type": "code",
   "execution_count": 42,
   "id": "2f355117-8c1f-4ce4-b0c0-b41e17a6b5cc",
   "metadata": {},
   "outputs": [],
   "source": [
    "def place_marker(board, marker, position):\n",
    "    board[position] = marker"
   ]
  },
  {
   "cell_type": "code",
   "execution_count": 7,
   "id": "b2280cdb-74c4-4f34-8073-a10d9e6f5a74",
   "metadata": {},
   "outputs": [
    {
     "name": "stdout",
     "output_type": "stream",
     "text": [
      "       |       |       \n",
      "   X   |   $   |   X    \n",
      "       |       |       \n",
      "-----------------------\n",
      "       |       |       \n",
      "   X   |   X   |   X    \n",
      "       |       |       \n",
      "-----------------------\n",
      "       |       |       \n",
      "   X   |   X   |   X    \n",
      "       |       |       \n",
      "       |       |       \n",
      "   X   |   $   |   X    \n",
      "       |       |       \n",
      "-----------------------\n",
      "       |       |       \n",
      "   X   |   X   |   X    \n",
      "       |       |       \n",
      "-----------------------\n",
      "       |       |       \n",
      "   X   |   X   |   X    \n",
      "       |       |       \n"
     ]
    }
   ],
   "source": [
    "place_marker(test_board, \"$\", 8)\n",
    "display_board(test_board)"
   ]
  },
  {
   "cell_type": "code",
   "execution_count": 8,
   "id": "50eb982a-c155-4091-93af-76e7ac5de973",
   "metadata": {},
   "outputs": [],
   "source": [
    "def win_check(board, marker):\n",
    "    win_combinations = [\n",
    "        [7,8,9],\n",
    "        [4,5,6],\n",
    "        [1,2,3],\n",
    "        [7,4,1],\n",
    "        [8,5,2],\n",
    "        [9,6,3],\n",
    "        [7,5,3],\n",
    "        [9,5,1],\n",
    "    ]\n",
    "    return any(all(board[position] == marker for position in combination) for combination in win_combinations)\n",
    "    # Checks if all positions in a given win combination have the same marker\n",
    "    # Checks if at least one of the combinations satisfies the above condition"
   ]
  },
  {
   "cell_type": "code",
   "execution_count": 9,
   "id": "50016954-8561-4ba7-8d31-6d8c5c13bb5d",
   "metadata": {},
   "outputs": [
    {
     "data": {
      "text/plain": [
       "True"
      ]
     },
     "execution_count": 9,
     "metadata": {},
     "output_type": "execute_result"
    }
   ],
   "source": [
    "win_check(test_board, 'X')"
   ]
  },
  {
   "cell_type": "code",
   "execution_count": 10,
   "id": "01780696-3613-43d2-a37b-8e9cea81fa8d",
   "metadata": {},
   "outputs": [],
   "source": [
    "def space_check(board, position):\n",
    "    return board[position] == ' '"
   ]
  },
  {
   "cell_type": "code",
   "execution_count": 38,
   "id": "6e1dced3-3b31-46b0-b316-a01803ebc814",
   "metadata": {},
   "outputs": [],
   "source": [
    "def full_board_check(board):\n",
    "\n",
    "    for i in range(1,10):\n",
    "        if space_check(board, i):\n",
    "            return False\n",
    "    return True"
   ]
  },
  {
   "cell_type": "code",
   "execution_count": 28,
   "id": "6cc2448f-21a9-48d2-9d5f-2b69594319d5",
   "metadata": {},
   "outputs": [],
   "source": [
    "def player_choice(board):\n",
    "    position = 0\n",
    "    while position not in [1,2,3,4,5,6,7,8,9] or not space_check(board, position):\n",
    "        position = int(input(\"Input a location to place your move (1-9): \"))\n",
    "\n",
    "        if position not in [1,2,3,4,5,6,7,8,9] or not space_check(board, position):\n",
    "            print(\"Sorry, invalid choice! \")\n",
    "\n",
    "    return int(position)"
   ]
  },
  {
   "cell_type": "code",
   "execution_count": 30,
   "id": "ce18d379-4b58-4925-b729-1a77a479506b",
   "metadata": {},
   "outputs": [
    {
     "name": "stdin",
     "output_type": "stream",
     "text": [
      "Input a location to place your move (1-9):  1\n"
     ]
    },
    {
     "data": {
      "text/plain": [
       "1"
      ]
     },
     "execution_count": 30,
     "metadata": {},
     "output_type": "execute_result"
    }
   ],
   "source": [
    "player_choice(game_board)"
   ]
  },
  {
   "cell_type": "code",
   "execution_count": 13,
   "id": "5529a029-7d8f-4578-80b1-5d94e884e559",
   "metadata": {},
   "outputs": [],
   "source": [
    "def replay():\n",
    "\n",
    "    return input('Do you want to play again? Enter Yes or No: ').lower().startswith('y')"
   ]
  },
  {
   "cell_type": "code",
   "execution_count": 14,
   "id": "c7dc419b-677d-483c-ad6f-c4f6324b9acf",
   "metadata": {},
   "outputs": [
    {
     "name": "stdin",
     "output_type": "stream",
     "text": [
      "Do you want to play again? Enter Yes or No:  No\n"
     ]
    },
    {
     "data": {
      "text/plain": [
       "False"
      ]
     },
     "execution_count": 14,
     "metadata": {},
     "output_type": "execute_result"
    }
   ],
   "source": [
    "replay()"
   ]
  },
  {
   "cell_type": "code",
   "execution_count": 46,
   "id": "5ad11bff-9d57-4287-a147-ae2884145182",
   "metadata": {},
   "outputs": [
    {
     "name": "stdout",
     "output_type": "stream",
     "text": [
      "Start a game of Tic Tac Toe!\n"
     ]
    },
    {
     "name": "stdin",
     "output_type": "stream",
     "text": [
      "Player 1: Do you want to be X or O?  X\n"
     ]
    },
    {
     "name": "stdout",
     "output_type": "stream",
     "text": [
      "Player 1 will go first. \n"
     ]
    },
    {
     "name": "stdin",
     "output_type": "stream",
     "text": [
      "Are you ready to play? Enter Yes or No Yes\n"
     ]
    },
    {
     "name": "stdout",
     "output_type": "stream",
     "text": [
      "       |       |       \n",
      "       |       |        \n",
      "       |       |       \n",
      "-----------------------\n",
      "       |       |       \n",
      "       |       |        \n",
      "       |       |       \n",
      "-----------------------\n",
      "       |       |       \n",
      "       |       |        \n",
      "       |       |       \n"
     ]
    },
    {
     "name": "stdin",
     "output_type": "stream",
     "text": [
      "Input a location to place your move (1-9):  7\n"
     ]
    },
    {
     "name": "stdout",
     "output_type": "stream",
     "text": [
      "       |       |       \n",
      "   X   |       |        \n",
      "       |       |       \n",
      "-----------------------\n",
      "       |       |       \n",
      "       |       |        \n",
      "       |       |       \n",
      "-----------------------\n",
      "       |       |       \n",
      "       |       |        \n",
      "       |       |       \n"
     ]
    },
    {
     "name": "stdin",
     "output_type": "stream",
     "text": [
      "Input a location to place your move (1-9):  2\n"
     ]
    },
    {
     "name": "stdout",
     "output_type": "stream",
     "text": [
      "       |       |       \n",
      "   X   |       |        \n",
      "       |       |       \n",
      "-----------------------\n",
      "       |       |       \n",
      "       |       |        \n",
      "       |       |       \n",
      "-----------------------\n",
      "       |       |       \n",
      "       |   O   |        \n",
      "       |       |       \n"
     ]
    },
    {
     "name": "stdin",
     "output_type": "stream",
     "text": [
      "Input a location to place your move (1-9):  8\n"
     ]
    },
    {
     "name": "stdout",
     "output_type": "stream",
     "text": [
      "       |       |       \n",
      "   X   |   X   |        \n",
      "       |       |       \n",
      "-----------------------\n",
      "       |       |       \n",
      "       |       |        \n",
      "       |       |       \n",
      "-----------------------\n",
      "       |       |       \n",
      "       |   O   |        \n",
      "       |       |       \n"
     ]
    },
    {
     "name": "stdin",
     "output_type": "stream",
     "text": [
      "Input a location to place your move (1-9):  6\n"
     ]
    },
    {
     "name": "stdout",
     "output_type": "stream",
     "text": [
      "       |       |       \n",
      "   X   |   X   |        \n",
      "       |       |       \n",
      "-----------------------\n",
      "       |       |       \n",
      "       |       |   O    \n",
      "       |       |       \n",
      "-----------------------\n",
      "       |       |       \n",
      "       |   O   |        \n",
      "       |       |       \n"
     ]
    },
    {
     "name": "stdin",
     "output_type": "stream",
     "text": [
      "Input a location to place your move (1-9):  9\n"
     ]
    },
    {
     "name": "stdout",
     "output_type": "stream",
     "text": [
      "       |       |       \n",
      "   X   |   X   |   X    \n",
      "       |       |       \n",
      "-----------------------\n",
      "       |       |       \n",
      "       |       |   O    \n",
      "       |       |       \n",
      "-----------------------\n",
      "       |       |       \n",
      "       |   O   |        \n",
      "       |       |       \n",
      "You Win!!!\n"
     ]
    },
    {
     "name": "stdin",
     "output_type": "stream",
     "text": [
      "Do you want to play again? Enter Yes or No:  No\n"
     ]
    }
   ],
   "source": [
    "print(\"Start a game of Tic Tac Toe!\")\n",
    "\n",
    "while True:\n",
    "    game_board = [' ']*100\n",
    "    p1_marker, p2_marker = player_input()\n",
    "    turn = 'Player 1'\n",
    "    print(turn + ' will go first. ')\n",
    "\n",
    "    play_game = input('Are you ready to play? Enter Yes or No').lower().startswith('y')\n",
    "\n",
    "    if play_game:\n",
    "        game_on = True\n",
    "    else: \n",
    "        game_on = False\n",
    "\n",
    "    while game_on:\n",
    "        if turn == 'Player 1':\n",
    "\n",
    "            display_board(game_board)\n",
    "            position = player_choice(game_board)\n",
    "            place_marker(game_board, p1_marker, position)\n",
    "\n",
    "            if win_check(game_board, p1_marker):\n",
    "                display_board(game_board)\n",
    "                print('You Win!!!')\n",
    "                game_on = False\n",
    "            else:\n",
    "                if full_board_check(game_board):\n",
    "                    display_board(game_board)\n",
    "                    print('The game is a draw!')\n",
    "                    break\n",
    "                else:\n",
    "                    turn = 'Player 2'\n",
    "                    \n",
    "        else: #It becomes player 2's turn\n",
    "\n",
    "            display_board(game_board)\n",
    "            position = player_choice(game_board)\n",
    "            place_marker(game_board, p2_marker, position)\n",
    "\n",
    "            if win_check(game_board, p2_marker):\n",
    "                display_board(game_board)\n",
    "                print('You Win!!!')\n",
    "                game_on = False\n",
    "            else:\n",
    "                if full_board_check(game_board):\n",
    "                    display_board(game_board)\n",
    "                    print('The game is a draw!')\n",
    "                    break\n",
    "                else:\n",
    "                    turn = 'Player 1'\n",
    "    if not replay():\n",
    "        break"
   ]
  },
  {
   "cell_type": "code",
   "execution_count": null,
   "id": "7bddf97a-dc72-4e2b-a97a-167196557b58",
   "metadata": {},
   "outputs": [],
   "source": []
  }
 ],
 "metadata": {
  "kernelspec": {
   "display_name": "Python 3 (ipykernel)",
   "language": "python",
   "name": "python3"
  },
  "language_info": {
   "codemirror_mode": {
    "name": "ipython",
    "version": 3
   },
   "file_extension": ".py",
   "mimetype": "text/x-python",
   "name": "python",
   "nbconvert_exporter": "python",
   "pygments_lexer": "ipython3",
   "version": "3.12.4"
  }
 },
 "nbformat": 4,
 "nbformat_minor": 5
}
